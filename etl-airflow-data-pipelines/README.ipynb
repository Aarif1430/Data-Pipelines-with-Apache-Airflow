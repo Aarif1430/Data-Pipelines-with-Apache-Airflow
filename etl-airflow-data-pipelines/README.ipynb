{
 "cells": [
  {
   "cell_type": "markdown",
   "metadata": {},
   "source": [
    "## Introduction\n",
    "This project will introduce you to the core concepts of Apache Airflow. To complete the project, you will need to create your own custom operators to perform tasks such as:\n",
    "- staging the data\n",
    "- filling the data warehouse\n",
    "- running checks on the data as the final step\n",
    "\n",
    "![dag](images/dag.png)\n",
    "\n",
    "The project template package contains three major components for the project:\n",
    "\n",
    "- The dag template has all the imports and task templates in place, but the task dependencies have not been set\n",
    "- The operators folder with operator templates\n",
    "- A helper class for the SQL transformations"
   ]
  },
  {
   "cell_type": "markdown",
   "metadata": {},
   "source": [
    "Four different operators are developed for this purpose:\n",
    "- **StageToRedshift**: \n",
    "- **LoadFactTable**:\n",
    "- **LoadDimensionTable**:\n",
    "- **DataQuality**:\n"
   ]
  },
  {
   "cell_type": "markdown",
   "metadata": {},
   "source": [
    "## Catchup\n",
    "An Airflow DAG with a start_date, possibly an end_date, and a schedule_interval defines a series of intervals which the scheduler turn into individual Dag Runs and execute. A key capability of Airflow is that these DAG Runs are atomic, idempotent items, and the scheduler, by default, will examine the lifetime of the DAG (from start to end/now, one interval at a time) and kick off a DAG Run for any interval that has not been run (or has been cleared). This concept is called Catchup."
   ]
  },
  {
   "cell_type": "markdown",
   "metadata": {},
   "source": [
    "## How to run this project?\n",
    "### Step 1: Create the AWS Redshift Cluster\n",
    "Run the notebook to create AWS Redshift Cluster. Make a note of:\n",
    "- DWN_ENDPOINT ::  dwhcluster.c4m4dhrmsdov.us-west-2.redshift.amazonaws.com\n",
    "- DWH_ROLE_ARN ::  arn:aws:iam::506140549518:role/dwhRole\n",
    "\n",
    "### Step 2: Start Apache Airflow \n",
    "Run `docker-compose up` from the directory containing `docker-compose.yml`. Ensure that you have mapped the volume to point to the location where you have your DAGs.\n",
    "\n",
    "> **NOTE: You can find details of how to manage Apache Airflow on mac here:** https://gist.github.com/shravan-kuchkula/a3f357ff34cf5e3b862f3132fb599cf3\n",
    "\n",
    "![start_airflow](images/start_airflow.png)\n",
    "\n",
    "### Step 3: Configure Apache Airflow Hooks\n",
    "On the left is the `S3 connection`. The Login and password are the IAM user's access key and secret key that you created. Basically, by using these credentials, we are able to read data from S3.\n",
    "\n",
    "On the right is the `redshift connection`. These values can be easily gathered from your Redshift cluster\n",
    "\n",
    "![connections](images/connections.png)\n",
    "\n",
    "### Step 4: Execute the create-tables-dag\n",
    "This dag will create the staging, fact and dimension tables. The reason we need to trigger this manually is because, we want to keep this out of main dag. Normally, creation of tables can be handled by just triggering a script. But for the sake of illustration, I created a DAG for this and had Airflow trigger the DAG. You can turn off the DAG once it is completed. At this moment, you should see all the tables created in the AWS Redshift Query Editor:\n",
    "\n",
    "![tables](images/tables.png)\n",
    "\n",
    "### Step 5: Turn on the `load_and_transform_data_in_redshift` dag\n",
    "As the execution start date is `2018-11-1` with a schedule interval `@daily` and the execution end date is `2018-11-30`, Airflow will automatically trigger and schedule the dag runs once per day for 30 times."
   ]
  },
  {
   "cell_type": "code",
   "execution_count": null,
   "metadata": {},
   "outputs": [],
   "source": []
  },
  {
   "cell_type": "code",
   "execution_count": null,
   "metadata": {},
   "outputs": [],
   "source": []
  }
 ],
 "metadata": {
  "kernelspec": {
   "display_name": "Python 3",
   "language": "python",
   "name": "python3"
  },
  "language_info": {
   "codemirror_mode": {
    "name": "ipython",
    "version": 3
   },
   "file_extension": ".py",
   "mimetype": "text/x-python",
   "name": "python",
   "nbconvert_exporter": "python",
   "pygments_lexer": "ipython3",
   "version": "3.6.6"
  }
 },
 "nbformat": 4,
 "nbformat_minor": 2
}
