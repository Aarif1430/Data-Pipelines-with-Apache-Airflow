{
 "cells": [
  {
   "cell_type": "markdown",
   "metadata": {},
   "source": [
    "## Introduction\n",
    "\n",
    "The focus of this project is shown here:\n",
    "\n",
    "![focus](images/focus.png)"
   ]
  },
  {
   "cell_type": "markdown",
   "metadata": {},
   "source": [
    "### Project Structure\n",
    "* **etl.py**: The script reads song_data and load_data from S3, transforms them to create five different tables, and writes them to partitioned parquet files in table directories on S3.\n",
    "* **schema.py**: The script captures the column names as per star-schema design.\n",
    "* **Local.ipynb**: Notebook for trying things out locally before putting them into a script.\n",
    "* **data**: A sample of song_data and log_data saved locally for testing before going to S3.\n",
    "* **spark-warehouse**: Output tables written to parquet files. Each table has its own directory. \n",
    "    * artist table files\n",
    "    * users table files\n",
    "    * songs table files are partitioned by **year** and **artist**. \n",
    "    * time table files are partitioned by **year** and **month**. \n",
    "    * songplays table is partitioned by **year** and **month**."
   ]
  },
  {
   "cell_type": "code",
   "execution_count": null,
   "metadata": {},
   "outputs": [],
   "source": []
  }
 ],
 "metadata": {
  "kernelspec": {
   "display_name": "Python 3",
   "language": "python",
   "name": "python3"
  },
  "language_info": {
   "codemirror_mode": {
    "name": "ipython",
    "version": 3
   },
   "file_extension": ".py",
   "mimetype": "text/x-python",
   "name": "python",
   "nbconvert_exporter": "python",
   "pygments_lexer": "ipython3",
   "version": "3.6.6"
  }
 },
 "nbformat": 4,
 "nbformat_minor": 2
}
